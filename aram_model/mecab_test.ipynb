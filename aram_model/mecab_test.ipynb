{
 "cells": [
  {
   "cell_type": "code",
   "execution_count": 2,
   "metadata": {},
   "outputs": [
    {
     "name": "stdout",
     "output_type": "stream",
     "text": [
      "아빠\tNNG,*,F,아빠,*,*,*,*\n",
      "가\tJKS,*,F,가,*,*,*,*\n",
      "방\tNNG,장소,T,방,*,*,*,*\n",
      "에\tJKB,*,F,에,*,*,*,*\n",
      "들어가\tVV,*,F,들어가,*,*,*,*\n",
      "신다\tEP+EF,*,F,신다,Inflect,EP,EF,시/EP/*+ᆫ다/EF/*\n",
      ".\tSF,*,*,*,*,*,*,*\n",
      "EOS\n",
      "\n"
     ]
    }
   ],
   "source": [
    "import MeCab\n",
    "\n",
    "m = MeCab.Tagger()\n",
    "out = m.parse(\"아빠가방에들어가신다.\")\n",
    "\n",
    "print(out)"
   ]
  },
  {
   "cell_type": "code",
   "execution_count": null,
   "metadata": {},
   "outputs": [],
   "source": []
  }
 ],
 "metadata": {
  "interpreter": {
   "hash": "24052901f7a087bcbcc02651cc468e6b8a8d5d6454da46de00d94ad849c3692a"
  },
  "kernelspec": {
   "display_name": "Python 3.7.13 ('safey_helmet')",
   "language": "python",
   "name": "python3"
  },
  "language_info": {
   "codemirror_mode": {
    "name": "ipython",
    "version": 3
   },
   "file_extension": ".py",
   "mimetype": "text/x-python",
   "name": "python",
   "nbconvert_exporter": "python",
   "pygments_lexer": "ipython3",
   "version": "3.7.13"
  },
  "orig_nbformat": 4
 },
 "nbformat": 4,
 "nbformat_minor": 2
}
