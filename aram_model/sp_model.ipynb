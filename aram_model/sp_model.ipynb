{
 "cells": [
  {
   "cell_type": "code",
   "execution_count": 5,
   "metadata": {},
   "outputs": [],
   "source": [
    "# csv 데이터를 리스트로 불러온다.\n",
    "import pandas as pd\n",
    "import urllib.request\n",
    "import csv\n",
    "import sentencepiece as spm"
   ]
  },
  {
   "cell_type": "code",
   "execution_count": 2,
   "metadata": {},
   "outputs": [
    {
     "data": {
      "text/html": [
       "<div>\n",
       "<style scoped>\n",
       "    .dataframe tbody tr th:only-of-type {\n",
       "        vertical-align: middle;\n",
       "    }\n",
       "\n",
       "    .dataframe tbody tr th {\n",
       "        vertical-align: top;\n",
       "    }\n",
       "\n",
       "    .dataframe thead th {\n",
       "        text-align: right;\n",
       "    }\n",
       "</style>\n",
       "<table border=\"1\" class=\"dataframe\">\n",
       "  <thead>\n",
       "    <tr style=\"text-align: right;\">\n",
       "      <th></th>\n",
       "      <th>sentence</th>\n",
       "    </tr>\n",
       "  </thead>\n",
       "  <tbody>\n",
       "    <tr>\n",
       "      <th>0</th>\n",
       "      <td>PSC거더 제작과 야적에 충분한 면적을 확보하여야 한다.</td>\n",
       "    </tr>\n",
       "    <tr>\n",
       "      <th>1</th>\n",
       "      <td>제작장의 지반은 부등침하가 발생하지 않도록 충분한 지지력을 확보하여야 한다.</td>\n",
       "    </tr>\n",
       "    <tr>\n",
       "      <th>2</th>\n",
       "      <td>제작된 PSC거더의 반출이 용이한 곳을 선정하여야 한다.</td>\n",
       "    </tr>\n",
       "    <tr>\n",
       "      <th>3</th>\n",
       "      <td>홍수위(H.W.L) 이상의 안전한 곳에 위치하여야 한다.</td>\n",
       "    </tr>\n",
       "    <tr>\n",
       "      <th>4</th>\n",
       "      <td>풍수해의 영향, 지하매설물의 유무, 공사에 의한 공해 등의 방지에 유의하여야 한다.</td>\n",
       "    </tr>\n",
       "  </tbody>\n",
       "</table>\n",
       "</div>"
      ],
      "text/plain": [
       "                                         sentence\n",
       "0                 PSC거더 제작과 야적에 충분한 면적을 확보하여야 한다.\n",
       "1      제작장의 지반은 부등침하가 발생하지 않도록 충분한 지지력을 확보하여야 한다.\n",
       "2                 제작된 PSC거더의 반출이 용이한 곳을 선정하여야 한다.\n",
       "3                 홍수위(H.W.L) 이상의 안전한 곳에 위치하여야 한다.\n",
       "4  풍수해의 영향, 지하매설물의 유무, 공사에 의한 공해 등의 방지에 유의하여야 한다."
      ]
     },
     "execution_count": 2,
     "metadata": {},
     "output_type": "execute_result"
    }
   ],
   "source": [
    "# csv형태의 데이터를 불러온다.\n",
    "data = pd.read_csv('train_GJ&case.csv', header = 0, index_col = 0)\n",
    "data.head()"
   ]
  },
  {
   "cell_type": "code",
   "execution_count": 3,
   "metadata": {},
   "outputs": [],
   "source": [
    "with open('all_sentence.txt', 'w', encoding='utf-8') as f:\n",
    "    f.write('\\n'.join(data['sentence']))"
   ]
  },
  {
   "cell_type": "code",
   "execution_count": 7,
   "metadata": {},
   "outputs": [],
   "source": [
    "# input : 학습시킬 파일\n",
    "# model_prefix : 만들어질 모델 이름\n",
    "# vocab_size : 단어 집합의 크기\n",
    "# model_type : 사용할 모델(unigram(default), bpe, char, word)\n",
    "# max_sentence_length : 문장의 최대 길이\n",
    "# pad_id,pad_piece : pad token id, 값\n",
    "# unk_id, unk_piece : unknown token id, 값\n",
    "# bos_id, bos_piece : begin of sentence token id, 값\n",
    "# eos_id, eos_piece : end of sequence token id, 값\n",
    "# user_defined_symbols : 사용자 정의 토큰\n",
    "\n",
    "spm.SentencePieceTrainer.Train('--input=all_sentence.txt --model_prefix=all_unigram --vocab_size=9900 --model_type=unigram --max_sentence_length=9999')"
   ]
  },
  {
   "cell_type": "code",
   "execution_count": 8,
   "metadata": {},
   "outputs": [
    {
     "name": "stdout",
     "output_type": "stream",
     "text": [
      "          0         1\n",
      "0     <unk>   0.00000\n",
      "1       <s>   0.00000\n",
      "2      </s>   0.00000\n",
      "3         ▁  -3.88981\n",
      "4         을  -3.97083\n",
      "...     ...       ...\n",
      "9895      갓 -14.35190\n",
      "9896      늄 -14.35190\n",
      "9897      벅 -14.35190\n",
      "9898      왼 -14.35190\n",
      "9899      찮 -14.35190\n",
      "\n",
      "[9900 rows x 2 columns]\n"
     ]
    }
   ],
   "source": [
    "vocab_list = pd.read_csv('all_unigram.vocab', sep='\\t', header=None, quoting=csv.QUOTE_NONE)\n",
    "\n",
    "vocab_list.to_csv(\"sp_unigram_vocabulary.csv\")\n",
    "print(vocab_list)"
   ]
  },
  {
   "cell_type": "code",
   "execution_count": null,
   "metadata": {},
   "outputs": [],
   "source": []
  }
 ],
 "metadata": {
  "interpreter": {
   "hash": "24052901f7a087bcbcc02651cc468e6b8a8d5d6454da46de00d94ad849c3692a"
  },
  "kernelspec": {
   "display_name": "Python 3.7.13 ('safey_helmet')",
   "language": "python",
   "name": "python3"
  },
  "language_info": {
   "codemirror_mode": {
    "name": "ipython",
    "version": 3
   },
   "file_extension": ".py",
   "mimetype": "text/x-python",
   "name": "python",
   "nbconvert_exporter": "python",
   "pygments_lexer": "ipython3",
   "version": "3.7.13"
  },
  "orig_nbformat": 4
 },
 "nbformat": 4,
 "nbformat_minor": 2
}
