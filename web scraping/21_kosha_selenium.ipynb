{
 "cells": [
  {
   "cell_type": "code",
   "execution_count": 4,
   "metadata": {},
   "outputs": [
    {
     "name": "stderr",
     "output_type": "stream",
     "text": [
      "C:\\Users\\seonghunyun\\AppData\\Local\\Temp\\ipykernel_18664\\2381523428.py:6: DeprecationWarning: executable_path has been deprecated, please pass in a Service object\n",
      "  browser = webdriver.Chrome('./chromedriver.exe')\n"
     ]
    },
    {
     "name": "stdout",
     "output_type": "stream",
     "text": [
      "1. 철골 구조물 상부에서 추락\n",
      "2. 이동식크레인 벨트슬링에 발을 걸고 매달린 채 이동 중 추락\n",
      "3. 데크플레이트 설치 작업 중 추락\n",
      "4. 전도된 굴삭기에 깔림\n",
      "5. 방음벽 설치작업 중 작업대에서 추락\n",
      "6. 아스콘 포장작업 중 롤러 장비에 충돌·협착\n",
      "7. 우레탄 폼 캔 폭발\n",
      "8. 지붕 슬래브 해체 작업 중 붕괴\n",
      "9. H빔 절단 작업 중 빔 전도\n",
      "10. PC슬래브 설치 작업 중 추락\n"
     ]
    }
   ],
   "source": [
    "import requests\n",
    "from bs4 import BeautifulSoup\n",
    "from selenium import webdriver\n",
    "\n",
    "# 크롬 브라우저 열기\n",
    "browser = webdriver.Chrome('./chromedriver.exe')\n",
    "browser.maximize_window()  # 창 최대화\n",
    "\n",
    "# 1. 코샤 국내재해사례 페이지로 이동\n",
    "url = 'https://www.kosha.or.kr/kosha/data/construction.do?mode=list&&articleLimit=10&article.offset=0'\n",
    "browser.get(url)\n",
    "\n",
    "# 2. 스크래핑 진행\n",
    "## create_soup 정의\n",
    "def create_soup(url):\n",
    "    res = requests.get(url)\n",
    "    res.raise_for_status()\n",
    "    soup = BeautifulSoup(res.text, 'lxml')\n",
    "    return soup\n",
    "\n",
    "## 제목 텍스트 추출\n",
    "soup = create_soup(url)\n",
    "lists = soup.find_all('td', attrs={'class':'board-list-title'})\n",
    "\n",
    "title_list = []\n",
    "for idx, list in enumerate(lists):\n",
    "    title = list.find('a').get_text().strip()\n",
    "    title_list.append(title)\n",
    "    print('{}. {}'.format(idx+1, title))\n",
    "\n",
    "# # 목록 클릭\n",
    "# # browser.find_element_by_class_name('board-list-title').click()\n",
    "# browser.find_element_by_tag_name('tbody').find_element_by_tag_name('a').click()\n",
    "\n",
    "# # 스크래핑 진행\n",
    "# pre_elem = browser.find_element_by_class_name(\"pre\")\n",
    "# print(pre_elem.text)\n",
    "\n",
    "# # 뒤로 가기\n",
    "# browser.back()\n",
    "\n",
    "# # 3. 다음 페이지로 클릭\n",
    "# # browser.find_element_by_link_text('2').click()"
   ]
  },
  {
   "cell_type": "code",
   "execution_count": 5,
   "metadata": {},
   "outputs": [
    {
     "data": {
      "text/plain": [
       "['철골 구조물 상부에서 추락',\n",
       " '이동식크레인 벨트슬링에 발을 걸고 매달린 채 이동 중 추락',\n",
       " '데크플레이트 설치 작업 중 추락',\n",
       " '전도된 굴삭기에 깔림',\n",
       " '방음벽 설치작업 중 작업대에서 추락',\n",
       " '아스콘 포장작업 중 롤러 장비에 충돌·협착',\n",
       " '우레탄 폼 캔 폭발',\n",
       " '지붕 슬래브 해체 작업 중 붕괴',\n",
       " 'H빔 절단 작업 중 빔 전도',\n",
       " 'PC슬래브 설치 작업 중 추락']"
      ]
     },
     "execution_count": 5,
     "metadata": {},
     "output_type": "execute_result"
    }
   ],
   "source": [
    "title_list"
   ]
  },
  {
   "cell_type": "code",
   "execution_count": null,
   "metadata": {},
   "outputs": [],
   "source": []
  }
 ],
 "metadata": {
  "interpreter": {
   "hash": "1388814960cac5921ac43a8f420e3dfe9a9eea554c894ca7af279d2b6b2f9037"
  },
  "kernelspec": {
   "display_name": "Python 3.10.4 64-bit",
   "language": "python",
   "name": "python3"
  },
  "language_info": {
   "codemirror_mode": {
    "name": "ipython",
    "version": 3
   },
   "file_extension": ".py",
   "mimetype": "text/x-python",
   "name": "python",
   "nbconvert_exporter": "python",
   "pygments_lexer": "ipython3",
   "version": "3.10.4"
  },
  "orig_nbformat": 4
 },
 "nbformat": 4,
 "nbformat_minor": 2
}
