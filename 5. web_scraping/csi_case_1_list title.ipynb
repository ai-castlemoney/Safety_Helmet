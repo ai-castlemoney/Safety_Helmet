{
 "cells": [
  {
   "cell_type": "code",
   "execution_count": 2,
   "metadata": {},
   "outputs": [
    {
     "name": "stdout",
     "output_type": "stream",
     "text": [
      "외남동162 근린생활시설 신축공사\n",
      "보라동 391-23 근린생활시설 및 다세대주택 신축공사 작업 착수 전 사망사고\n",
      "송산그린시티 EB4블록 형틀공 추락사고\n",
      "화성비봉 공공주택지구 조성공사\n",
      "상도동 243-19 신축공사 추락사고\n",
      "범어동 13-8번지 상 근린생활시설 증축공사 건설사고\n",
      "아파트 도색작업 준비중 추락사고\n",
      "건설근로자 산업안전재해 발생(남양주별내A25BL 아파트 건설공사 16공구)\n",
      "대전 선화동 106-1 일원 주상복합 신축공사 안전사고\n",
      "광양 SNG 설비매매  및 철거공사 중 케이블 하역 작업 중 근로자 1명 추락사\n"
     ]
    }
   ],
   "source": [
    "import requests\n",
    "from bs4 import BeautifulSoup\n",
    "\n",
    "url = 'https://www.csi.go.kr/acd/acdCaseList.do'\n",
    "res = requests.get(url)\n",
    "res.raise_for_status()   # 문제 있으면 프로그램 종료\n",
    "\n",
    "soup = BeautifulSoup(res.text, 'lxml')\n",
    "lists = soup.find_all('tr', attrs = {'class' : 'odd gradeX'})\n",
    "\n",
    "for list in lists:\n",
    "    title = list.find('td', attrs = {'class':'t-left'})\n",
    "    print(title.get_text().strip())\n",
    "    # print('{}. {}'.format(idx+1, title))"
   ]
  },
  {
   "cell_type": "code",
   "execution_count": null,
   "metadata": {},
   "outputs": [],
   "source": []
  }
 ],
 "metadata": {
  "interpreter": {
   "hash": "09cfd758bcd48e95dca008e2511c03a0b10ac3fa2b1c7b303fbb546d45ecad20"
  },
  "kernelspec": {
   "display_name": "Python 3.10.4 64-bit",
   "language": "python",
   "name": "python3"
  },
  "language_info": {
   "codemirror_mode": {
    "name": "ipython",
    "version": 3
   },
   "file_extension": ".py",
   "mimetype": "text/x-python",
   "name": "python",
   "nbconvert_exporter": "python",
   "pygments_lexer": "ipython3",
   "version": "3.10.4"
  },
  "orig_nbformat": 4
 },
 "nbformat": 4,
 "nbformat_minor": 2
}
