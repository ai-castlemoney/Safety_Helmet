{
 "cells": [
  {
   "cell_type": "code",
   "execution_count": 5,
   "metadata": {},
   "outputs": [],
   "source": [
    "import matplotlib.pyplot as plt\n",
    "import seaborn as sns\n",
    "from matplotlib import font_manager, rc\n",
    "import pandas as pd\n",
    "\n",
    "font_name = font_manager.FontProperties(fname=\"c:/Windows/Fonts/malgun.ttf\").get_name()\n",
    "rc('font', family=font_name)"
   ]
  },
  {
   "cell_type": "code",
   "execution_count": 1,
   "metadata": {},
   "outputs": [],
   "source": [
    "case = pd.read_csv('1. EDA_컬럼분할, 제거.csv', header = 0, index_col = 0)"
   ]
  },
  {
   "cell_type": "code",
   "execution_count": 2,
   "metadata": {},
   "outputs": [
    {
     "data": {
      "text/plain": [
       "array(['건축', '기타', '산업설비', '토목', '기계설비', '전기설비', '통신설비', nan],\n",
       "      dtype=object)"
      ]
     },
     "execution_count": 2,
     "metadata": {},
     "output_type": "execute_result"
    }
   ],
   "source": [
    "case['공종대분류'].unique()"
   ]
  },
  {
   "cell_type": "code",
   "execution_count": 3,
   "metadata": {},
   "outputs": [
    {
     "data": {
      "text/plain": [
       "array(['철골공사', '기타', '가설공사', '금속공사', '도장공사', '철근콘크리트공사', '해체 및 철거공사',\n",
       "       '건축 토공사', '기계설비공사', '조경공사', '관공사', '미장공사', '수장공사', '건축물 부대공사',\n",
       "       '전기설비공사', '토공사', '조적공사', '산업설비공사', '터널공사', '타일 및 돌공사', '창호 및 유리공사',\n",
       "       '교량공사', '목공사', '하천공사', '지붕 및 홈통공사', '말뚝공사', '방수공사', '도로 및 포장공사',\n",
       "       '항만공사', '지정공사', '관공사 부대공사', '지반조사', '강구조물공사', '철도 및 궤도공사',\n",
       "       '통신설비공사', '지반개량공사', '댐 및 제방공사', nan, '프리캐스트 콘크리트공사', '특수 건축물공사'],\n",
       "      dtype=object)"
      ]
     },
     "execution_count": 3,
     "metadata": {},
     "output_type": "execute_result"
    }
   ],
   "source": [
    "case['공종소분류'].unique()"
   ]
  },
  {
   "cell_type": "code",
   "execution_count": 4,
   "metadata": {},
   "outputs": [
    {
     "data": {
      "text/plain": [
       "공종대분류\n",
       "건축      6707\n",
       "기계설비     419\n",
       "기타      1548\n",
       "산업설비     212\n",
       "전기설비     313\n",
       "토목      2708\n",
       "통신설비       6\n",
       "Name: 공종소분류, dtype: int64"
      ]
     },
     "execution_count": 4,
     "metadata": {},
     "output_type": "execute_result"
    }
   ],
   "source": [
    "# '공종대분류' 기준으로 '공종소분류'의 갯수\n",
    "grouped_kind = case['공종소분류'].groupby(case['공종대분류'])\n",
    "grouped_kind.size()"
   ]
  },
  {
   "cell_type": "code",
   "execution_count": 6,
   "metadata": {},
   "outputs": [
    {
     "data": {
      "image/png": "[encoded data removed]",
      "text/plain": [
       "<Figure size 576x576 with 1 Axes>"
      ]
     },
     "metadata": {},
     "output_type": "display_data"
    }
   ],
   "source": [
    "# '공종대분류' 비율\n",
    "fig = plt.figure(figsize=(8,8))\n",
    "fig.set_facecolor('white')\n",
    "\n",
    "ax = fig.add_subplot()\n",
    "ax.set_ylabel('')\n",
    "\n",
    "case['공종대분류'].value_counts().plot.pie(autopct = '%1.1f%%')\n",
    "plt.title('공종 비율', fontsize = 20)\n",
    "\n",
    "plt.show()"
   ]
  },
  {
   "cell_type": "code",
   "execution_count": 7,
   "metadata": {},
   "outputs": [
    {
     "data": {
      "text/html": [
       "<div>\n",
       "<style scoped>\n",
       "    .dataframe tbody tr th:only-of-type {\n",
       "        vertical-align: middle;\n",
       "    }\n",
       "\n",
       "    .dataframe tbody tr th {\n",
       "        vertical-align: top;\n",
       "    }\n",
       "\n",
       "    .dataframe thead th {\n",
       "        text-align: right;\n",
       "    }\n",
       "</style>\n",
       "<table border=\"1\" class=\"dataframe\">\n",
       "  <thead>\n",
       "    <tr style=\"text-align: right;\">\n",
       "      <th></th>\n",
       "      <th>공종대분류</th>\n",
       "      <th>공종소분류</th>\n",
       "    </tr>\n",
       "  </thead>\n",
       "  <tbody>\n",
       "    <tr>\n",
       "      <th>0</th>\n",
       "      <td>건축</td>\n",
       "      <td>[철골공사, 가설공사, 금속공사, 도장공사, 철근콘크리트공사, 건축 토공사, 조경공...</td>\n",
       "    </tr>\n",
       "    <tr>\n",
       "      <th>1</th>\n",
       "      <td>기계설비</td>\n",
       "      <td>[기계설비공사, 해체 및 철거공사, 가설공사]</td>\n",
       "    </tr>\n",
       "    <tr>\n",
       "      <th>2</th>\n",
       "      <td>기타</td>\n",
       "      <td>[기타]</td>\n",
       "    </tr>\n",
       "    <tr>\n",
       "      <th>3</th>\n",
       "      <td>산업설비</td>\n",
       "      <td>[해체 및 철거공사, 산업설비공사, 가설공사]</td>\n",
       "    </tr>\n",
       "    <tr>\n",
       "      <th>4</th>\n",
       "      <td>전기설비</td>\n",
       "      <td>[전기설비공사, 가설공사, 해체 및 철거공사]</td>\n",
       "    </tr>\n",
       "    <tr>\n",
       "      <th>5</th>\n",
       "      <td>토목</td>\n",
       "      <td>[철근콘크리트공사, 관공사, 가설공사, 토공사, 터널공사, 교량공사, 하천공사, 말...</td>\n",
       "    </tr>\n",
       "    <tr>\n",
       "      <th>6</th>\n",
       "      <td>통신설비</td>\n",
       "      <td>[통신설비공사]</td>\n",
       "    </tr>\n",
       "  </tbody>\n",
       "</table>\n",
       "</div>"
      ],
      "text/plain": [
       "  공종대분류                                              공종소분류\n",
       "0    건축  [철골공사, 가설공사, 금속공사, 도장공사, 철근콘크리트공사, 건축 토공사, 조경공...\n",
       "1  기계설비                          [기계설비공사, 해체 및 철거공사, 가설공사]\n",
       "2    기타                                               [기타]\n",
       "3  산업설비                          [해체 및 철거공사, 산업설비공사, 가설공사]\n",
       "4  전기설비                          [전기설비공사, 가설공사, 해체 및 철거공사]\n",
       "5    토목  [철근콘크리트공사, 관공사, 가설공사, 토공사, 터널공사, 교량공사, 하천공사, 말...\n",
       "6  통신설비                                           [통신설비공사]"
      ]
     },
     "execution_count": 7,
     "metadata": {},
     "output_type": "execute_result"
    }
   ],
   "source": [
    "const_kind = grouped_kind.unique().reset_index()\n",
    "const_kind"
   ]
  },
  {
   "cell_type": "code",
   "execution_count": 8,
   "metadata": {},
   "outputs": [],
   "source": [
    "# const_kind.to_csv('2_3. 공종 리스트.csv')"
   ]
  }
 ],
 "metadata": {
  "interpreter": {
   "hash": "24052901f7a087bcbcc02651cc468e6b8a8d5d6454da46de00d94ad849c3692a"
  },
  "kernelspec": {
   "display_name": "Python 3.7.13 ('safey_helmet')",
   "language": "python",
   "name": "python3"
  },
  "language_info": {
   "codemirror_mode": {
    "name": "ipython",
    "version": 3
   },
   "file_extension": ".py",
   "mimetype": "text/x-python",
   "name": "python",
   "nbconvert_exporter": "python",
   "pygments_lexer": "ipython3",
   "version": "3.7.13"
  },
  "orig_nbformat": 4
 },
 "nbformat": 4,
 "nbformat_minor": 2
}
